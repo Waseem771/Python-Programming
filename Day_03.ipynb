{
 "cells": [
  {
   "cell_type": "markdown",
   "metadata": {},
   "source": [
    "## loops \n",
    "if else, elif controm statements\n",
    "for loop\n",
    "while loopym"
   ]
  },
  {
   "cell_type": "code",
   "execution_count": 6,
   "metadata": {},
   "outputs": [
    {
     "name": "stdout",
     "output_type": "stream",
     "text": [
      "Your grade is B\n"
     ]
    }
   ],
   "source": [
    "# Example 01\n",
    "# assume the student grade in class \n",
    "\n",
    "student_score = 55 \n",
    "# \n",
    "if student_score >=60:\n",
    "    print(\"Your grade is A\")\n",
    "    \n",
    "elif student_score >=50:\n",
    "    print(\"Your grade is B\")\n",
    "elif student_score <=40:\n",
    "    print(\"Your grade is C\")    \n",
    "else:\n",
    "    print(\"Your grade is D\")\n",
    "            "
   ]
  },
  {
   "cell_type": "code",
   "execution_count": 18,
   "metadata": {},
   "outputs": [
    {
     "name": "stdout",
     "output_type": "stream",
     "text": [
      "The number is negative\n",
      "The number is always printed\n"
     ]
    }
   ],
   "source": [
    "# Numbers print\n",
    "number = -1\n",
    "\n",
    "if number > 0:\n",
    "    print(\"The number is positive\")\n",
    "elif number < 0:\n",
    "    print(\"The number is negative\")\n",
    "\n",
    "else:\n",
    "    print(\"The number is zero\")\n",
    "# this number is always printed\n",
    "print(\"The number is always printed\")\n",
    "\n",
    "    \n",
    "    "
   ]
  },
  {
   "cell_type": "code",
   "execution_count": 20,
   "metadata": {},
   "outputs": [
    {
     "name": "stdout",
     "output_type": "stream",
     "text": [
      "the number 1 is less then number 2\n"
     ]
    }
   ],
   "source": [
    "num1, num2 = 10, 20\n",
    "\n",
    "if num1 < num2:\n",
    "    print(\"the number 1 is less then number 2\")  "
   ]
  },
  {
   "cell_type": "code",
   "execution_count": 9,
   "metadata": {},
   "outputs": [
    {
     "name": "stdout",
     "output_type": "stream",
     "text": [
      "The number is zero\n",
      "The number is always printed\n"
     ]
    }
   ],
   "source": [
    "# Example 02\n",
    "\n",
    "# assume the number is given \n",
    "given_number = int(input(\"Enter the number:\"))\n",
    "if given_number > 0:\n",
    "    print(\"The number is positive\")\n",
    "elif given_number < 0:\n",
    "    print(\"The number is negative\")\n",
    "    \n",
    "else:\n",
    "    print(\"The number is zero\")\n",
    "print(\"The number is always printed\")"
   ]
  },
  {
   "cell_type": "code",
   "execution_count": 12,
   "metadata": {},
   "outputs": [
    {
     "name": "stdout",
     "output_type": "stream",
     "text": [
      "Hello\n",
      "Hello\n",
      "Hello\n",
      "Hello\n",
      "Hello\n"
     ]
    }
   ],
   "source": [
    "## loops \n",
    "# for loop\n",
    "for a in range(10):\n",
    "    if a == 5:\n",
    "        break\n",
    "    print('Hello')"
   ]
  },
  {
   "cell_type": "code",
   "execution_count": 13,
   "metadata": {},
   "outputs": [
    {
     "name": "stdout",
     "output_type": "stream",
     "text": [
      "1\n",
      "2\n",
      "3\n",
      "4\n",
      "5\n",
      "6\n",
      "7\n",
      "8\n",
      "9\n",
      "10\n"
     ]
    }
   ],
   "source": [
    "# Example  number in list \n",
    "number_list = [1,2,3,4,5,6,7,8,9,10]\n",
    "for number in number_list:\n",
    "    print(number)"
   ]
  },
  {
   "cell_type": "code",
   "execution_count": 17,
   "metadata": {},
   "outputs": [
    {
     "name": "stdout",
     "output_type": "stream",
     "text": [
      "1\n",
      "3\n",
      "6\n",
      "10\n",
      "15\n",
      "21\n",
      "28\n",
      "36\n",
      "45\n",
      "55\n",
      "5.5\n"
     ]
    }
   ],
   "source": [
    "# calculate the average of the number_list \n",
    "\n",
    "total_num = 0\n",
    "number_list = [1,2,3,4,5,6,7,8,9,10]\n",
    "len_size = len(number_list)\n",
    "for number in number_list:\n",
    "    total_num += number\n",
    "    print(total_num)\n",
    "average  = total_num /len_size\n",
    "print(average)"
   ]
  }
 ],
 "metadata": {
  "kernelspec": {
   "display_name": "base",
   "language": "python",
   "name": "python3"
  },
  "language_info": {
   "codemirror_mode": {
    "name": "ipython",
    "version": 3
   },
   "file_extension": ".py",
   "mimetype": "text/x-python",
   "name": "python",
   "nbconvert_exporter": "python",
   "pygments_lexer": "ipython3",
   "version": "3.11.4"
  }
 },
 "nbformat": 4,
 "nbformat_minor": 2
}
